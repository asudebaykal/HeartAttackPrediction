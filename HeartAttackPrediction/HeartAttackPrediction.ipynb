{
 "cells": [
  {
   "cell_type": "code",
   "execution_count": 2,
   "metadata": {},
   "outputs": [],
   "source": [
    "# import libraries\n",
    "import numpy as np\n",
    "import pandas as pd\n",
    "import matplotlib.pyplot as plt\n",
    "import seaborn as sns\n",
    "import warnings\n",
    "warnings.filterwarnings(\"ignore\")"
   ]
  },
  {
   "cell_type": "code",
   "execution_count": 3,
   "metadata": {},
   "outputs": [
    {
     "data": {
      "text/html": [
       "<div>\n",
       "<style scoped>\n",
       "    .dataframe tbody tr th:only-of-type {\n",
       "        vertical-align: middle;\n",
       "    }\n",
       "\n",
       "    .dataframe tbody tr th {\n",
       "        vertical-align: top;\n",
       "    }\n",
       "\n",
       "    .dataframe thead th {\n",
       "        text-align: right;\n",
       "    }\n",
       "</style>\n",
       "<table border=\"1\" class=\"dataframe\">\n",
       "  <thead>\n",
       "    <tr style=\"text-align: right;\">\n",
       "      <th></th>\n",
       "      <th>age</th>\n",
       "      <th>sex</th>\n",
       "      <th>cp</th>\n",
       "      <th>trtbps</th>\n",
       "      <th>chol</th>\n",
       "      <th>fbs</th>\n",
       "      <th>restecg</th>\n",
       "      <th>thalachh</th>\n",
       "      <th>exng</th>\n",
       "      <th>oldpeak</th>\n",
       "      <th>slp</th>\n",
       "      <th>caa</th>\n",
       "      <th>thall</th>\n",
       "      <th>output</th>\n",
       "    </tr>\n",
       "  </thead>\n",
       "  <tbody>\n",
       "    <tr>\n",
       "      <th>298</th>\n",
       "      <td>57</td>\n",
       "      <td>0</td>\n",
       "      <td>0</td>\n",
       "      <td>140</td>\n",
       "      <td>241</td>\n",
       "      <td>0</td>\n",
       "      <td>1</td>\n",
       "      <td>123</td>\n",
       "      <td>1</td>\n",
       "      <td>0.2</td>\n",
       "      <td>1</td>\n",
       "      <td>0</td>\n",
       "      <td>3</td>\n",
       "      <td>0</td>\n",
       "    </tr>\n",
       "    <tr>\n",
       "      <th>299</th>\n",
       "      <td>45</td>\n",
       "      <td>1</td>\n",
       "      <td>3</td>\n",
       "      <td>110</td>\n",
       "      <td>264</td>\n",
       "      <td>0</td>\n",
       "      <td>1</td>\n",
       "      <td>132</td>\n",
       "      <td>0</td>\n",
       "      <td>1.2</td>\n",
       "      <td>1</td>\n",
       "      <td>0</td>\n",
       "      <td>3</td>\n",
       "      <td>0</td>\n",
       "    </tr>\n",
       "    <tr>\n",
       "      <th>300</th>\n",
       "      <td>68</td>\n",
       "      <td>1</td>\n",
       "      <td>0</td>\n",
       "      <td>144</td>\n",
       "      <td>193</td>\n",
       "      <td>1</td>\n",
       "      <td>1</td>\n",
       "      <td>141</td>\n",
       "      <td>0</td>\n",
       "      <td>3.4</td>\n",
       "      <td>1</td>\n",
       "      <td>2</td>\n",
       "      <td>3</td>\n",
       "      <td>0</td>\n",
       "    </tr>\n",
       "    <tr>\n",
       "      <th>301</th>\n",
       "      <td>57</td>\n",
       "      <td>1</td>\n",
       "      <td>0</td>\n",
       "      <td>130</td>\n",
       "      <td>131</td>\n",
       "      <td>0</td>\n",
       "      <td>1</td>\n",
       "      <td>115</td>\n",
       "      <td>1</td>\n",
       "      <td>1.2</td>\n",
       "      <td>1</td>\n",
       "      <td>1</td>\n",
       "      <td>3</td>\n",
       "      <td>0</td>\n",
       "    </tr>\n",
       "    <tr>\n",
       "      <th>302</th>\n",
       "      <td>57</td>\n",
       "      <td>0</td>\n",
       "      <td>1</td>\n",
       "      <td>130</td>\n",
       "      <td>236</td>\n",
       "      <td>0</td>\n",
       "      <td>0</td>\n",
       "      <td>174</td>\n",
       "      <td>0</td>\n",
       "      <td>0.0</td>\n",
       "      <td>1</td>\n",
       "      <td>1</td>\n",
       "      <td>2</td>\n",
       "      <td>0</td>\n",
       "    </tr>\n",
       "  </tbody>\n",
       "</table>\n",
       "</div>"
      ],
      "text/plain": [
       "     age  sex  cp  trtbps  chol  fbs  restecg  thalachh  exng  oldpeak  slp  \\\n",
       "298   57    0   0     140   241    0        1       123     1      0.2    1   \n",
       "299   45    1   3     110   264    0        1       132     0      1.2    1   \n",
       "300   68    1   0     144   193    1        1       141     0      3.4    1   \n",
       "301   57    1   0     130   131    0        1       115     1      1.2    1   \n",
       "302   57    0   1     130   236    0        0       174     0      0.0    1   \n",
       "\n",
       "     caa  thall  output  \n",
       "298    0      3       0  \n",
       "299    0      3       0  \n",
       "300    2      3       0  \n",
       "301    1      3       0  \n",
       "302    1      2       0  "
      ]
     },
     "execution_count": 3,
     "metadata": {},
     "output_type": "execute_result"
    }
   ],
   "source": [
    "df1 = pd.read_csv(\"heart.csv\")\n",
    "df1.tail()\n",
    "# age : age\n",
    "# sex : gender\n",
    "# cp : chest pain tyoe\n",
    "# trtbps : resting blood pressure (in mm Hg)\n",
    "# chol : cholestoral in mg/dl fetched via BMI sensor\n",
    "# fbs : (fasting blood sugar > 120 mg/dl) (1 = true; 0 = false)\n",
    "# restecg : resting electrocardiographic results\n",
    "# thalachh : maximum heart rate achieved\n",
    "# exng : exercise induces angina (1 = yes; 0 = no)\n",
    "# oldpeak : previous peak\n",
    "# slp : slope\n",
    "# caa : Number of major vessels\n",
    "# thall : Thalium Stress Test result ~ (0,3)\n",
    "# output : target variable"
   ]
  },
  {
   "cell_type": "code",
   "execution_count": 4,
   "metadata": {},
   "outputs": [
    {
     "data": {
      "text/html": [
       "<div>\n",
       "<style scoped>\n",
       "    .dataframe tbody tr th:only-of-type {\n",
       "        vertical-align: middle;\n",
       "    }\n",
       "\n",
       "    .dataframe tbody tr th {\n",
       "        vertical-align: top;\n",
       "    }\n",
       "\n",
       "    .dataframe thead th {\n",
       "        text-align: right;\n",
       "    }\n",
       "</style>\n",
       "<table border=\"1\" class=\"dataframe\">\n",
       "  <thead>\n",
       "    <tr style=\"text-align: right;\">\n",
       "      <th></th>\n",
       "      <th>98.6</th>\n",
       "    </tr>\n",
       "  </thead>\n",
       "  <tbody>\n",
       "    <tr>\n",
       "      <th>3580</th>\n",
       "      <td>98.6</td>\n",
       "    </tr>\n",
       "    <tr>\n",
       "      <th>3581</th>\n",
       "      <td>98.6</td>\n",
       "    </tr>\n",
       "    <tr>\n",
       "      <th>3582</th>\n",
       "      <td>98.6</td>\n",
       "    </tr>\n",
       "    <tr>\n",
       "      <th>3583</th>\n",
       "      <td>98.6</td>\n",
       "    </tr>\n",
       "    <tr>\n",
       "      <th>3584</th>\n",
       "      <td>98.6</td>\n",
       "    </tr>\n",
       "  </tbody>\n",
       "</table>\n",
       "</div>"
      ],
      "text/plain": [
       "      98.6\n",
       "3580  98.6\n",
       "3581  98.6\n",
       "3582  98.6\n",
       "3583  98.6\n",
       "3584  98.6"
      ]
     },
     "execution_count": 4,
     "metadata": {},
     "output_type": "execute_result"
    }
   ],
   "source": [
    "df2 = pd.read_csv(\"o2Saturation.csv\")\n",
    "df2.tail()"
   ]
  },
  {
   "cell_type": "markdown",
   "metadata": {},
   "source": [
    "### Data Exploration"
   ]
  },
  {
   "cell_type": "code",
   "execution_count": 5,
   "metadata": {},
   "outputs": [
    {
     "name": "stdout",
     "output_type": "stream",
     "text": [
      "heart.csv shape is:  (303, 14)\n",
      "o2Saturation.csv shape is:  (3585, 1)\n"
     ]
    }
   ],
   "source": [
    "print(\"heart.csv shape is: \", df1.shape)\n",
    "print(\"o2Saturation.csv shape is: \", df2.shape)"
   ]
  },
  {
   "cell_type": "code",
   "execution_count": 6,
   "metadata": {},
   "outputs": [
    {
     "name": "stdout",
     "output_type": "stream",
     "text": [
      "<class 'pandas.core.frame.DataFrame'>\n",
      "RangeIndex: 303 entries, 0 to 302\n",
      "Data columns (total 14 columns):\n",
      " #   Column    Non-Null Count  Dtype  \n",
      "---  ------    --------------  -----  \n",
      " 0   age       303 non-null    int64  \n",
      " 1   sex       303 non-null    int64  \n",
      " 2   cp        303 non-null    int64  \n",
      " 3   trtbps    303 non-null    int64  \n",
      " 4   chol      303 non-null    int64  \n",
      " 5   fbs       303 non-null    int64  \n",
      " 6   restecg   303 non-null    int64  \n",
      " 7   thalachh  303 non-null    int64  \n",
      " 8   exng      303 non-null    int64  \n",
      " 9   oldpeak   303 non-null    float64\n",
      " 10  slp       303 non-null    int64  \n",
      " 11  caa       303 non-null    int64  \n",
      " 12  thall     303 non-null    int64  \n",
      " 13  output    303 non-null    int64  \n",
      "dtypes: float64(1), int64(13)\n",
      "memory usage: 33.3 KB\n",
      "None\n"
     ]
    }
   ],
   "source": [
    "print(df1.info())\n",
    "# all numerical values - no missing values"
   ]
  },
  {
   "cell_type": "code",
   "execution_count": 7,
   "metadata": {},
   "outputs": [
    {
     "data": {
      "text/plain": [
       "age         0\n",
       "sex         0\n",
       "cp          0\n",
       "trtbps      0\n",
       "chol        0\n",
       "fbs         0\n",
       "restecg     0\n",
       "thalachh    0\n",
       "exng        0\n",
       "oldpeak     0\n",
       "slp         0\n",
       "caa         0\n",
       "thall       0\n",
       "output      0\n",
       "dtype: int64"
      ]
     },
     "execution_count": 7,
     "metadata": {},
     "output_type": "execute_result"
    }
   ],
   "source": [
    "df1.isna().sum()"
   ]
  },
  {
   "cell_type": "code",
   "execution_count": 8,
   "metadata": {},
   "outputs": [
    {
     "data": {
      "text/html": [
       "<div>\n",
       "<style scoped>\n",
       "    .dataframe tbody tr th:only-of-type {\n",
       "        vertical-align: middle;\n",
       "    }\n",
       "\n",
       "    .dataframe tbody tr th {\n",
       "        vertical-align: top;\n",
       "    }\n",
       "\n",
       "    .dataframe thead th {\n",
       "        text-align: right;\n",
       "    }\n",
       "</style>\n",
       "<table border=\"1\" class=\"dataframe\">\n",
       "  <thead>\n",
       "    <tr style=\"text-align: right;\">\n",
       "      <th></th>\n",
       "      <th>unique count</th>\n",
       "    </tr>\n",
       "  </thead>\n",
       "  <tbody>\n",
       "    <tr>\n",
       "      <th>age</th>\n",
       "      <td>41</td>\n",
       "    </tr>\n",
       "    <tr>\n",
       "      <th>sex</th>\n",
       "      <td>2</td>\n",
       "    </tr>\n",
       "    <tr>\n",
       "      <th>cp</th>\n",
       "      <td>4</td>\n",
       "    </tr>\n",
       "    <tr>\n",
       "      <th>trtbps</th>\n",
       "      <td>49</td>\n",
       "    </tr>\n",
       "    <tr>\n",
       "      <th>chol</th>\n",
       "      <td>152</td>\n",
       "    </tr>\n",
       "    <tr>\n",
       "      <th>fbs</th>\n",
       "      <td>2</td>\n",
       "    </tr>\n",
       "    <tr>\n",
       "      <th>restecg</th>\n",
       "      <td>3</td>\n",
       "    </tr>\n",
       "    <tr>\n",
       "      <th>thalachh</th>\n",
       "      <td>91</td>\n",
       "    </tr>\n",
       "    <tr>\n",
       "      <th>exng</th>\n",
       "      <td>2</td>\n",
       "    </tr>\n",
       "    <tr>\n",
       "      <th>oldpeak</th>\n",
       "      <td>40</td>\n",
       "    </tr>\n",
       "    <tr>\n",
       "      <th>slp</th>\n",
       "      <td>3</td>\n",
       "    </tr>\n",
       "    <tr>\n",
       "      <th>caa</th>\n",
       "      <td>5</td>\n",
       "    </tr>\n",
       "    <tr>\n",
       "      <th>thall</th>\n",
       "      <td>4</td>\n",
       "    </tr>\n",
       "    <tr>\n",
       "      <th>output</th>\n",
       "      <td>2</td>\n",
       "    </tr>\n",
       "  </tbody>\n",
       "</table>\n",
       "</div>"
      ],
      "text/plain": [
       "          unique count\n",
       "age                 41\n",
       "sex                  2\n",
       "cp                   4\n",
       "trtbps              49\n",
       "chol               152\n",
       "fbs                  2\n",
       "restecg              3\n",
       "thalachh            91\n",
       "exng                 2\n",
       "oldpeak             40\n",
       "slp                  3\n",
       "caa                  5\n",
       "thall                4\n",
       "output               2"
      ]
     },
     "execution_count": 8,
     "metadata": {},
     "output_type": "execute_result"
    }
   ],
   "source": [
    "# checking the number of unique values\n",
    "dict = {}\n",
    "for i in list(df1.columns):\n",
    "    dict[i] = df1[i].value_counts().shape[0]\n",
    "pd.DataFrame(dict,index=[\"unique count\"]).transpose()"
   ]
  },
  {
   "cell_type": "code",
   "execution_count": 9,
   "metadata": {},
   "outputs": [
    {
     "name": "stdout",
     "output_type": "stream",
     "text": [
      "The categorial cols are :  ['sex', 'cp', 'fbs', 'restecg', 'exng', 'slp', 'caa', 'thall']\n",
      "The continuous cols are :  ['age', 'trtbps', 'chol', 'thalachh', 'oldpeak']\n",
      "The target variable is :   ['output']\n"
     ]
    }
   ],
   "source": [
    "# separate attribute types : categorical and continuous\n",
    "categorical = ['sex','cp','fbs','restecg','exng','slp','caa','thall']\n",
    "continuous = ['age','trtbps','chol','thalachh','oldpeak']\n",
    "target = [\"output\"]\n",
    "print(\"The categorial cols are : \", categorical)\n",
    "print(\"The continuous cols are : \", continuous)\n",
    "print(\"The target variable is :  \", target)"
   ]
  },
  {
   "cell_type": "code",
   "execution_count": 10,
   "metadata": {},
   "outputs": [
    {
     "data": {
      "text/html": [
       "<div>\n",
       "<style scoped>\n",
       "    .dataframe tbody tr th:only-of-type {\n",
       "        vertical-align: middle;\n",
       "    }\n",
       "\n",
       "    .dataframe tbody tr th {\n",
       "        vertical-align: top;\n",
       "    }\n",
       "\n",
       "    .dataframe thead th {\n",
       "        text-align: right;\n",
       "    }\n",
       "</style>\n",
       "<table border=\"1\" class=\"dataframe\">\n",
       "  <thead>\n",
       "    <tr style=\"text-align: right;\">\n",
       "      <th></th>\n",
       "      <th>count</th>\n",
       "      <th>mean</th>\n",
       "      <th>std</th>\n",
       "      <th>min</th>\n",
       "      <th>25%</th>\n",
       "      <th>50%</th>\n",
       "      <th>75%</th>\n",
       "      <th>max</th>\n",
       "    </tr>\n",
       "  </thead>\n",
       "  <tbody>\n",
       "    <tr>\n",
       "      <th>age</th>\n",
       "      <td>303.0</td>\n",
       "      <td>54.366337</td>\n",
       "      <td>9.082101</td>\n",
       "      <td>29.0</td>\n",
       "      <td>47.5</td>\n",
       "      <td>55.0</td>\n",
       "      <td>61.0</td>\n",
       "      <td>77.0</td>\n",
       "    </tr>\n",
       "    <tr>\n",
       "      <th>trtbps</th>\n",
       "      <td>303.0</td>\n",
       "      <td>131.623762</td>\n",
       "      <td>17.538143</td>\n",
       "      <td>94.0</td>\n",
       "      <td>120.0</td>\n",
       "      <td>130.0</td>\n",
       "      <td>140.0</td>\n",
       "      <td>200.0</td>\n",
       "    </tr>\n",
       "    <tr>\n",
       "      <th>chol</th>\n",
       "      <td>303.0</td>\n",
       "      <td>246.264026</td>\n",
       "      <td>51.830751</td>\n",
       "      <td>126.0</td>\n",
       "      <td>211.0</td>\n",
       "      <td>240.0</td>\n",
       "      <td>274.5</td>\n",
       "      <td>564.0</td>\n",
       "    </tr>\n",
       "    <tr>\n",
       "      <th>thalachh</th>\n",
       "      <td>303.0</td>\n",
       "      <td>149.646865</td>\n",
       "      <td>22.905161</td>\n",
       "      <td>71.0</td>\n",
       "      <td>133.5</td>\n",
       "      <td>153.0</td>\n",
       "      <td>166.0</td>\n",
       "      <td>202.0</td>\n",
       "    </tr>\n",
       "    <tr>\n",
       "      <th>oldpeak</th>\n",
       "      <td>303.0</td>\n",
       "      <td>1.039604</td>\n",
       "      <td>1.161075</td>\n",
       "      <td>0.0</td>\n",
       "      <td>0.0</td>\n",
       "      <td>0.8</td>\n",
       "      <td>1.6</td>\n",
       "      <td>6.2</td>\n",
       "    </tr>\n",
       "  </tbody>\n",
       "</table>\n",
       "</div>"
      ],
      "text/plain": [
       "          count        mean        std    min    25%    50%    75%    max\n",
       "age       303.0   54.366337   9.082101   29.0   47.5   55.0   61.0   77.0\n",
       "trtbps    303.0  131.623762  17.538143   94.0  120.0  130.0  140.0  200.0\n",
       "chol      303.0  246.264026  51.830751  126.0  211.0  240.0  274.5  564.0\n",
       "thalachh  303.0  149.646865  22.905161   71.0  133.5  153.0  166.0  202.0\n",
       "oldpeak   303.0    1.039604   1.161075    0.0    0.0    0.8    1.6    6.2"
      ]
     },
     "execution_count": 10,
     "metadata": {},
     "output_type": "execute_result"
    }
   ],
   "source": [
    "df1[continuous].describe().transpose()"
   ]
  },
  {
   "cell_type": "markdown",
   "metadata": {},
   "source": [
    "### Visualization"
   ]
  },
  {
   "cell_type": "code",
   "execution_count": 21,
   "metadata": {},
   "outputs": [
    {
     "data": {
      "image/png": "[encoded data removed]",
      "text/plain": [
       "<Figure size 1296x1800 with 9 Axes>"
      ]
     },
     "metadata": {},
     "output_type": "display_data"
    }
   ],
   "source": [
    "# Categorical Value Visualization\n",
    "fig = plt.figure(figsize=(18,25))\n",
    "gs = fig.add_gridspec(5,2)\n",
    "#gs.update(wspace=0.5, hspace=0.25)\n",
    "ax0 = fig.add_subplot(gs[0,0])\n",
    "ax1 = fig.add_subplot(gs[1,0])\n",
    "ax2 = fig.add_subplot(gs[1,1])\n",
    "ax3 = fig.add_subplot(gs[2,0])\n",
    "ax4 = fig.add_subplot(gs[2,1])\n",
    "ax5 = fig.add_subplot(gs[3,0])\n",
    "ax6 = fig.add_subplot(gs[3,1])\n",
    "ax7 = fig.add_subplot(gs[4,0])\n",
    "ax8 = fig.add_subplot(gs[4,1])\n",
    "\n",
    "background_color = \"white\"\n",
    "color_palette = [\"teal\",\"darkturquoise\",\"deepskyblue\",\"steelblue\",\"dodgerblue\"]\n",
    "fig.patch.set_facecolor(background_color) \n",
    "ax0.set_facecolor(background_color) \n",
    "ax1.set_facecolor(background_color) \n",
    "ax2.set_facecolor(background_color) \n",
    "ax3.set_facecolor(background_color) \n",
    "ax4.set_facecolor(background_color) \n",
    "ax5.set_facecolor(background_color) \n",
    "ax6.set_facecolor(background_color) \n",
    "ax7.set_facecolor(background_color) \n",
    "ax8.set_facecolor(background_color) \n",
    "\n",
    "# Title of the plot\n",
    "ax0.spines[\"bottom\"].set_visible(False)\n",
    "ax0.spines[\"left\"].set_visible(False)\n",
    "ax0.spines[\"top\"].set_visible(False)\n",
    "ax0.spines[\"right\"].set_visible(False)\n",
    "ax0.tick_params(left=False, bottom=False)\n",
    "ax0.set_xticklabels([])\n",
    "ax0.set_yticklabels([])\n",
    "ax0.text(0.5,0.5,\n",
    "         'Count plot for various\\n categorical features',\n",
    "         horizontalalignment='center',\n",
    "         verticalalignment='center',\n",
    "         fontsize=24, fontweight='bold',\n",
    "         fontfamily='serif',\n",
    "         color=\"teal\")\n",
    "\n",
    "# Sex count\n",
    "ax1.text(0.3, 220, 'Sex', fontsize=14, fontweight='bold', fontfamily='serif', color=\"#000000\")\n",
    "ax1.grid(color='#000000', linestyle=':', axis='y', zorder=0,  dashes=(1,5))\n",
    "sns.countplot(ax=ax1,data=df1,x='sex',palette=color_palette)\n",
    "ax1.set_xlabel(\"\")\n",
    "ax1.set_ylabel(\"\")\n",
    "\n",
    "# Exng count\n",
    "ax2.text(0.3, 220, 'Exng', fontsize=14, fontweight='bold', fontfamily='serif', color=\"#000000\")\n",
    "ax2.grid(color='#000000', linestyle=':', axis='y', zorder=0,  dashes=(1,5))\n",
    "sns.countplot(ax=ax2,data=df1,x='exng',palette=color_palette)\n",
    "ax2.set_xlabel(\"\")\n",
    "ax2.set_ylabel(\"\")\n",
    "\n",
    "# Caa count\n",
    "ax3.text(1.5, 200, 'Caa', fontsize=14, fontweight='bold', fontfamily='serif', color=\"#000000\")\n",
    "ax3.grid(color='#000000', linestyle=':', axis='y', zorder=0,  dashes=(1,5))\n",
    "sns.countplot(ax=ax3,data=df1,x='caa',palette=color_palette)\n",
    "ax3.set_xlabel(\"\")\n",
    "ax3.set_ylabel(\"\")\n",
    "\n",
    "# Cp count\n",
    "ax4.text(1.5, 162, 'Cp', fontsize=14, fontweight='bold', fontfamily='serif', color=\"#000000\")\n",
    "ax4.grid(color='#000000', linestyle=':', axis='y', zorder=0,  dashes=(1,5))\n",
    "sns.countplot(ax=ax4,data=df1,x='cp',palette=color_palette)\n",
    "ax4.set_xlabel(\"\")\n",
    "ax4.set_ylabel(\"\")\n",
    "\n",
    "# Fbs count\n",
    "ax5.text(0.5, 290, 'Fbs', fontsize=14, fontweight='bold', fontfamily='serif', color=\"#000000\")\n",
    "ax5.grid(color='#000000', linestyle=':', axis='y', zorder=0,  dashes=(1,5))\n",
    "sns.countplot(ax=ax5,data=df1,x='fbs',palette=color_palette)\n",
    "ax5.set_xlabel(\"\")\n",
    "ax5.set_ylabel(\"\")\n",
    "\n",
    "# Restecg count\n",
    "ax6.text(0.75, 165, 'Restecg', fontsize=14, fontweight='bold', fontfamily='serif', color=\"#000000\")\n",
    "ax6.grid(color='#000000', linestyle=':', axis='y', zorder=0,  dashes=(1,5))\n",
    "sns.countplot(ax=ax6,data=df1,x='restecg',palette=color_palette)\n",
    "ax6.set_xlabel(\"\")\n",
    "ax6.set_ylabel(\"\")\n",
    "\n",
    "# Slp count\n",
    "ax7.text(0.85, 155, 'Slp', fontsize=14, fontweight='bold', fontfamily='serif', color=\"#000000\")\n",
    "ax7.grid(color='#000000', linestyle=':', axis='y', zorder=0,  dashes=(1,5))\n",
    "sns.countplot(ax=ax7,data=df1,x='slp',palette=color_palette)\n",
    "ax7.set_xlabel(\"\")\n",
    "ax7.set_ylabel(\"\")\n",
    "\n",
    "# Thall count\n",
    "ax8.text(1.2, 180, 'Thall', fontsize=14, fontweight='bold', fontfamily='serif', color=\"#000000\")\n",
    "ax8.grid(color='#000000', linestyle=':', axis='y', zorder=0,  dashes=(1,5))\n",
    "sns.countplot(ax=ax8,data=df1,x='thall',palette=color_palette)\n",
    "ax8.set_xlabel(\"\")\n",
    "ax8.set_ylabel(\"\")\n",
    "\n",
    "for s in [\"top\",\"right\",\"left\"]:\n",
    "    ax1.spines[s].set_visible(False)\n",
    "    ax2.spines[s].set_visible(False)\n",
    "    ax3.spines[s].set_visible(False)\n",
    "    ax4.spines[s].set_visible(False)\n",
    "    ax5.spines[s].set_visible(False)\n",
    "    ax6.spines[s].set_visible(False)\n",
    "    ax7.spines[s].set_visible(False)\n",
    "    ax8.spines[s].set_visible(False)"
   ]
  },
  {
   "cell_type": "code",
   "execution_count": 22,
   "metadata": {},
   "outputs": [
    {
     "data": {
      "image/png": "[encoded data removed]",
      "text/plain": [
       "<Figure size 1296x1296 with 6 Axes>"
      ]
     },
     "metadata": {},
     "output_type": "display_data"
    }
   ],
   "source": [
    "# Continuous Value Visualization\n",
    "fig = plt.figure(figsize=(18,18))\n",
    "gs = fig.add_gridspec(3,2)\n",
    "#gs.update(wspace=0.3, hspace=0.15)\n",
    "ax0 = fig.add_subplot(gs[0,0])\n",
    "ax1 = fig.add_subplot(gs[0,1])\n",
    "ax2 = fig.add_subplot(gs[1,0])\n",
    "ax3 = fig.add_subplot(gs[1,1])\n",
    "ax4 = fig.add_subplot(gs[2,0])\n",
    "ax5 = fig.add_subplot(gs[2,1])\n",
    "\n",
    "background_color = \"white\"\n",
    "color_palette = [\"teal\",\"darkturquoise\",\"deepskyblue\",\"steelblue\",\"dodgerblue\"]\n",
    "fig.patch.set_facecolor(background_color) \n",
    "ax0.set_facecolor(background_color) \n",
    "ax1.set_facecolor(background_color) \n",
    "ax2.set_facecolor(background_color) \n",
    "ax3.set_facecolor(background_color) \n",
    "ax4.set_facecolor(background_color) \n",
    "ax5.set_facecolor(background_color) \n",
    "\n",
    "# Title of the plot\n",
    "ax0.spines[\"bottom\"].set_visible(False)\n",
    "ax0.spines[\"left\"].set_visible(False)\n",
    "ax0.spines[\"top\"].set_visible(False)\n",
    "ax0.spines[\"right\"].set_visible(False)\n",
    "ax0.tick_params(left=False, bottom=False)\n",
    "ax0.set_xticklabels([])\n",
    "ax0.set_yticklabels([])\n",
    "ax0.text(0.5,0.5,\n",
    "         'Boxen plot for various\\n continuous features',\n",
    "         horizontalalignment='center',\n",
    "         verticalalignment='center',\n",
    "         fontsize=24, fontweight='bold',\n",
    "         fontfamily='serif',\n",
    "         color=\"teal\")\n",
    "\n",
    "# Age \n",
    "ax1.text(-0.05, 81, 'Age', fontsize=14, fontweight='bold', fontfamily='serif', color=\"#000000\")\n",
    "ax1.grid(color='#000000', linestyle=':', axis='y', zorder=0,  dashes=(1,5))\n",
    "sns.boxenplot(ax=ax1,y=df1['age'],palette=[\"teal\"],width=0.6)\n",
    "ax1.set_xlabel(\"\")\n",
    "ax1.set_ylabel(\"\")\n",
    "\n",
    "# Trtbps \n",
    "ax2.text(-0.05, 208, 'Trtbps', fontsize=14, fontweight='bold', fontfamily='serif', color=\"#000000\")\n",
    "ax2.grid(color='#000000', linestyle=':', axis='y', zorder=0,  dashes=(1,5))\n",
    "sns.boxenplot(ax=ax2,y=df1['trtbps'],palette=[\"darkturquoise\"],width=0.6)\n",
    "ax2.set_xlabel(\"\")\n",
    "ax2.set_ylabel(\"\")\n",
    "\n",
    "# Chol \n",
    "ax3.text(-0.05, 600, 'Chol', fontsize=14, fontweight='bold', fontfamily='serif', color=\"#000000\")\n",
    "ax3.grid(color='#000000', linestyle=':', axis='y', zorder=0,  dashes=(1,5))\n",
    "sns.boxenplot(ax=ax3,y=df1['chol'],palette=[\"deepskyblue\"],width=0.6)\n",
    "ax3.set_xlabel(\"\")\n",
    "ax3.set_ylabel(\"\")\n",
    "\n",
    "# Thalachh \n",
    "ax4.text(-0.09, 210, 'Thalachh', fontsize=14, fontweight='bold', fontfamily='serif', color=\"#000000\")\n",
    "ax4.grid(color='#000000', linestyle=':', axis='y', zorder=0,  dashes=(1,5))\n",
    "sns.boxenplot(ax=ax4,y=df1['thalachh'],palette=[\"steelblue\"],width=0.6)\n",
    "ax4.set_xlabel(\"\")\n",
    "ax4.set_ylabel(\"\")\n",
    "\n",
    "# oldpeak \n",
    "ax5.text(-0.1, 6.6, 'Oldpeak', fontsize=14, fontweight='bold', fontfamily='serif', color=\"#000000\")\n",
    "ax5.grid(color='#000000', linestyle=':', axis='y', zorder=0,  dashes=(1,5))\n",
    "sns.boxenplot(ax=ax5,y=df1['oldpeak'],palette=[\"dodgerblue\"],width=0.6)\n",
    "ax5.set_xlabel(\"\")\n",
    "ax5.set_ylabel(\"\")\n",
    "\n",
    "for s in [\"top\",\"right\",\"left\"]:\n",
    "    ax1.spines[s].set_visible(False)\n",
    "    ax2.spines[s].set_visible(False)\n",
    "    ax3.spines[s].set_visible(False)\n",
    "    ax4.spines[s].set_visible(False)\n",
    "    ax5.spines[s].set_visible(False)"
   ]
  },
  {
   "cell_type": "code",
   "execution_count": 23,
   "metadata": {},
   "outputs": [
    {
     "data": {
      "image/png": "[encoded data removed]",
      "text/plain": [
       "<Figure size 1296x720 with 2 Axes>"
      ]
     },
     "metadata": {},
     "output_type": "display_data"
    }
   ],
   "source": [
    "# Target Visualization\n",
    "fig = plt.figure(figsize=(18,10))\n",
    "gs = fig.add_gridspec(2,1)\n",
    "#gs.update(wspace=0.3, hspace=0.15)\n",
    "ax0 = fig.add_subplot(gs[0,0])\n",
    "ax1 = fig.add_subplot(gs[1,0])\n",
    "\n",
    "background_color = \"azure\"\n",
    "color_palette = [\"teal\",\"darkturquoise\",\"deepskyblue\",\"steelblue\",\"dodgerblue\"]\n",
    "fig.patch.set_facecolor(background_color) \n",
    "ax0.set_facecolor(background_color) \n",
    "ax1.set_facecolor(background_color) \n",
    "\n",
    "# Title of the plot\n",
    "ax0.text(0.5,0.5,\"Count of the target\",\n",
    "        horizontalalignment = 'center',\n",
    "        verticalalignment = 'center',\n",
    "        fontsize = 24,\n",
    "        fontweight='bold',\n",
    "        fontfamily='serif',\n",
    "        color='teal')\n",
    "\n",
    "ax0.set_xticklabels([])\n",
    "ax0.set_yticklabels([])\n",
    "ax0.tick_params(left=False, bottom=False)\n",
    "\n",
    "# Target Count\n",
    "ax1.text(0.35,177,\"Output\",fontsize=14, fontweight='bold', fontfamily='serif', color=\"#000000\")\n",
    "ax1.grid(color='#000000', linestyle=':', axis='y', zorder=0,  dashes=(1,5))\n",
    "sns.countplot(ax=ax1, data=df1, x = 'output',palette = color_palette)\n",
    "ax1.set_xlabel(\"\")\n",
    "ax1.set_ylabel(\"\")\n",
    "ax1.set_xticklabels([\"Low chances of attack(0)\",\"High chances of attack(1)\"])\n",
    "\n",
    "ax0.spines[\"top\"].set_visible(False)\n",
    "ax0.spines[\"left\"].set_visible(False)\n",
    "ax0.spines[\"bottom\"].set_visible(False)\n",
    "ax0.spines[\"right\"].set_visible(False)\n",
    "ax1.spines[\"top\"].set_visible(False)\n",
    "ax1.spines[\"left\"].set_visible(False)\n",
    "ax1.spines[\"right\"].set_visible(False)"
   ]
  },
  {
   "cell_type": "code",
   "execution_count": 25,
   "metadata": {},
   "outputs": [
    {
     "data": {
      "text/html": [
       "<div>\n",
       "<style scoped>\n",
       "    .dataframe tbody tr th:only-of-type {\n",
       "        vertical-align: middle;\n",
       "    }\n",
       "\n",
       "    .dataframe tbody tr th {\n",
       "        vertical-align: top;\n",
       "    }\n",
       "\n",
       "    .dataframe thead th {\n",
       "        text-align: right;\n",
       "    }\n",
       "</style>\n",
       "<table border=\"1\" class=\"dataframe\">\n",
       "  <thead>\n",
       "    <tr style=\"text-align: right;\">\n",
       "      <th></th>\n",
       "      <th>age</th>\n",
       "      <th>trtbps</th>\n",
       "      <th>chol</th>\n",
       "      <th>thalachh</th>\n",
       "      <th>oldpeak</th>\n",
       "    </tr>\n",
       "  </thead>\n",
       "  <tbody>\n",
       "    <tr>\n",
       "      <th>age</th>\n",
       "      <td>1.000000</td>\n",
       "      <td>0.279351</td>\n",
       "      <td>0.213678</td>\n",
       "      <td>-0.398522</td>\n",
       "      <td>0.210013</td>\n",
       "    </tr>\n",
       "    <tr>\n",
       "      <th>trtbps</th>\n",
       "      <td>0.279351</td>\n",
       "      <td>1.000000</td>\n",
       "      <td>0.123174</td>\n",
       "      <td>-0.046698</td>\n",
       "      <td>0.193216</td>\n",
       "    </tr>\n",
       "    <tr>\n",
       "      <th>chol</th>\n",
       "      <td>0.213678</td>\n",
       "      <td>0.123174</td>\n",
       "      <td>1.000000</td>\n",
       "      <td>-0.009940</td>\n",
       "      <td>0.053952</td>\n",
       "    </tr>\n",
       "    <tr>\n",
       "      <th>thalachh</th>\n",
       "      <td>-0.398522</td>\n",
       "      <td>-0.046698</td>\n",
       "      <td>-0.009940</td>\n",
       "      <td>1.000000</td>\n",
       "      <td>-0.344187</td>\n",
       "    </tr>\n",
       "    <tr>\n",
       "      <th>oldpeak</th>\n",
       "      <td>0.210013</td>\n",
       "      <td>0.193216</td>\n",
       "      <td>0.053952</td>\n",
       "      <td>-0.344187</td>\n",
       "      <td>1.000000</td>\n",
       "    </tr>\n",
       "  </tbody>\n",
       "</table>\n",
       "</div>"
      ],
      "text/plain": [
       "               age    trtbps      chol  thalachh   oldpeak\n",
       "age       1.000000  0.279351  0.213678 -0.398522  0.210013\n",
       "trtbps    0.279351  1.000000  0.123174 -0.046698  0.193216\n",
       "chol      0.213678  0.123174  1.000000 -0.009940  0.053952\n",
       "thalachh -0.398522 -0.046698 -0.009940  1.000000 -0.344187\n",
       "oldpeak   0.210013  0.193216  0.053952 -0.344187  1.000000"
      ]
     },
     "execution_count": 25,
     "metadata": {},
     "output_type": "execute_result"
    }
   ],
   "source": [
    "# Correlation Matrix\n",
    "df_corr = df1[continuous].corr().transpose()\n",
    "df_corr"
   ]
  },
  {
   "cell_type": "code",
   "execution_count": 26,
   "metadata": {},
   "outputs": [
    {
     "data": {
      "image/png": "[encoded data removed]",
      "text/plain": [
       "<Figure size 720x720 with 2 Axes>"
      ]
     },
     "metadata": {
      "needs_background": "light"
     },
     "output_type": "display_data"
    }
   ],
   "source": [
    "fig = plt.figure(figsize=(10,10))\n",
    "gs = fig.add_gridspec(1,1)\n",
    "gs.update(wspace=0.3, hspace=0.15)\n",
    "ax0 = fig.add_subplot(gs[0,0])\n",
    "\n",
    "mask = np.triu(np.ones_like(df_corr))\n",
    "ax0.text(1.5,-0.1,\"Correlation Matrix\",fontsize=22, fontweight='bold', fontfamily='serif', color=\"#000000\")\n",
    "sns.heatmap(df_corr,mask=mask,fmt=\".1f\",annot=True,cmap='Blues')\n",
    "plt.show()"
   ]
  },
  {
   "cell_type": "markdown",
   "metadata": {},
   "source": [
    "### Data Preprocessing"
   ]
  },
  {
   "cell_type": "code",
   "execution_count": 27,
   "metadata": {},
   "outputs": [],
   "source": [
    "# Scaling\n",
    "from sklearn.preprocessing import RobustScaler\n",
    "\n",
    "# Train Test Split\n",
    "from sklearn.model_selection import train_test_split\n",
    "\n",
    "# Models\n",
    "#import torch\n",
    "#import torch.nn as nn\n",
    "from sklearn.svm import SVC\n",
    "from sklearn.linear_model import LogisticRegression\n",
    "from sklearn.ensemble import RandomForestClassifier\n",
    "from sklearn.tree import DecisionTreeClassifier\n",
    "from sklearn.ensemble import GradientBoostingClassifier\n",
    "\n",
    "# Metrics\n",
    "from sklearn.metrics import accuracy_score, classification_report, roc_curve\n",
    "\n",
    "# Cross Validation\n",
    "from sklearn.model_selection import cross_val_score\n",
    "from sklearn.model_selection import GridSearchCV"
   ]
  },
  {
   "cell_type": "code",
   "execution_count": 34,
   "metadata": {},
   "outputs": [
    {
     "name": "stdout",
     "output_type": "stream",
     "text": [
      "The first 5 rows of X are\n"
     ]
    },
    {
     "data": {
      "text/html": [
       "<div>\n",
       "<style scoped>\n",
       "    .dataframe tbody tr th:only-of-type {\n",
       "        vertical-align: middle;\n",
       "    }\n",
       "\n",
       "    .dataframe tbody tr th {\n",
       "        vertical-align: top;\n",
       "    }\n",
       "\n",
       "    .dataframe thead th {\n",
       "        text-align: right;\n",
       "    }\n",
       "</style>\n",
       "<table border=\"1\" class=\"dataframe\">\n",
       "  <thead>\n",
       "    <tr style=\"text-align: right;\">\n",
       "      <th></th>\n",
       "      <th>age</th>\n",
       "      <th>trtbps</th>\n",
       "      <th>chol</th>\n",
       "      <th>thalachh</th>\n",
       "      <th>oldpeak</th>\n",
       "      <th>sex_1</th>\n",
       "      <th>exng_1</th>\n",
       "      <th>caa_1</th>\n",
       "      <th>caa_2</th>\n",
       "      <th>caa_3</th>\n",
       "      <th>...</th>\n",
       "      <th>cp_2</th>\n",
       "      <th>cp_3</th>\n",
       "      <th>fbs_1</th>\n",
       "      <th>restecg_1</th>\n",
       "      <th>restecg_2</th>\n",
       "      <th>slp_1</th>\n",
       "      <th>slp_2</th>\n",
       "      <th>thall_1</th>\n",
       "      <th>thall_2</th>\n",
       "      <th>thall_3</th>\n",
       "    </tr>\n",
       "  </thead>\n",
       "  <tbody>\n",
       "    <tr>\n",
       "      <th>0</th>\n",
       "      <td>0.592593</td>\n",
       "      <td>0.75</td>\n",
       "      <td>-0.110236</td>\n",
       "      <td>-0.092308</td>\n",
       "      <td>0.9375</td>\n",
       "      <td>1</td>\n",
       "      <td>0</td>\n",
       "      <td>0</td>\n",
       "      <td>0</td>\n",
       "      <td>0</td>\n",
       "      <td>...</td>\n",
       "      <td>0</td>\n",
       "      <td>1</td>\n",
       "      <td>1</td>\n",
       "      <td>0</td>\n",
       "      <td>0</td>\n",
       "      <td>0</td>\n",
       "      <td>0</td>\n",
       "      <td>1</td>\n",
       "      <td>0</td>\n",
       "      <td>0</td>\n",
       "    </tr>\n",
       "    <tr>\n",
       "      <th>1</th>\n",
       "      <td>-1.333333</td>\n",
       "      <td>0.00</td>\n",
       "      <td>0.157480</td>\n",
       "      <td>1.046154</td>\n",
       "      <td>1.6875</td>\n",
       "      <td>1</td>\n",
       "      <td>0</td>\n",
       "      <td>0</td>\n",
       "      <td>0</td>\n",
       "      <td>0</td>\n",
       "      <td>...</td>\n",
       "      <td>1</td>\n",
       "      <td>0</td>\n",
       "      <td>0</td>\n",
       "      <td>1</td>\n",
       "      <td>0</td>\n",
       "      <td>0</td>\n",
       "      <td>0</td>\n",
       "      <td>0</td>\n",
       "      <td>1</td>\n",
       "      <td>0</td>\n",
       "    </tr>\n",
       "    <tr>\n",
       "      <th>2</th>\n",
       "      <td>-1.037037</td>\n",
       "      <td>0.00</td>\n",
       "      <td>-0.566929</td>\n",
       "      <td>0.584615</td>\n",
       "      <td>0.3750</td>\n",
       "      <td>0</td>\n",
       "      <td>0</td>\n",
       "      <td>0</td>\n",
       "      <td>0</td>\n",
       "      <td>0</td>\n",
       "      <td>...</td>\n",
       "      <td>0</td>\n",
       "      <td>0</td>\n",
       "      <td>0</td>\n",
       "      <td>0</td>\n",
       "      <td>0</td>\n",
       "      <td>0</td>\n",
       "      <td>1</td>\n",
       "      <td>0</td>\n",
       "      <td>1</td>\n",
       "      <td>0</td>\n",
       "    </tr>\n",
       "    <tr>\n",
       "      <th>3</th>\n",
       "      <td>0.074074</td>\n",
       "      <td>-0.50</td>\n",
       "      <td>-0.062992</td>\n",
       "      <td>0.769231</td>\n",
       "      <td>0.0000</td>\n",
       "      <td>1</td>\n",
       "      <td>0</td>\n",
       "      <td>0</td>\n",
       "      <td>0</td>\n",
       "      <td>0</td>\n",
       "      <td>...</td>\n",
       "      <td>0</td>\n",
       "      <td>0</td>\n",
       "      <td>0</td>\n",
       "      <td>1</td>\n",
       "      <td>0</td>\n",
       "      <td>0</td>\n",
       "      <td>1</td>\n",
       "      <td>0</td>\n",
       "      <td>1</td>\n",
       "      <td>0</td>\n",
       "    </tr>\n",
       "    <tr>\n",
       "      <th>4</th>\n",
       "      <td>0.148148</td>\n",
       "      <td>-0.50</td>\n",
       "      <td>1.795276</td>\n",
       "      <td>0.307692</td>\n",
       "      <td>-0.1250</td>\n",
       "      <td>0</td>\n",
       "      <td>1</td>\n",
       "      <td>0</td>\n",
       "      <td>0</td>\n",
       "      <td>0</td>\n",
       "      <td>...</td>\n",
       "      <td>0</td>\n",
       "      <td>0</td>\n",
       "      <td>0</td>\n",
       "      <td>1</td>\n",
       "      <td>0</td>\n",
       "      <td>0</td>\n",
       "      <td>1</td>\n",
       "      <td>0</td>\n",
       "      <td>1</td>\n",
       "      <td>0</td>\n",
       "    </tr>\n",
       "  </tbody>\n",
       "</table>\n",
       "<p>5 rows × 22 columns</p>\n",
       "</div>"
      ],
      "text/plain": [
       "        age  trtbps      chol  thalachh  oldpeak  sex_1  exng_1  caa_1  caa_2  \\\n",
       "0  0.592593    0.75 -0.110236 -0.092308   0.9375      1       0      0      0   \n",
       "1 -1.333333    0.00  0.157480  1.046154   1.6875      1       0      0      0   \n",
       "2 -1.037037    0.00 -0.566929  0.584615   0.3750      0       0      0      0   \n",
       "3  0.074074   -0.50 -0.062992  0.769231   0.0000      1       0      0      0   \n",
       "4  0.148148   -0.50  1.795276  0.307692  -0.1250      0       1      0      0   \n",
       "\n",
       "   caa_3  ...  cp_2  cp_3  fbs_1  restecg_1  restecg_2  slp_1  slp_2  thall_1  \\\n",
       "0      0  ...     0     1      1          0          0      0      0        1   \n",
       "1      0  ...     1     0      0          1          0      0      0        0   \n",
       "2      0  ...     0     0      0          0          0      0      1        0   \n",
       "3      0  ...     0     0      0          1          0      0      1        0   \n",
       "4      0  ...     0     0      0          1          0      0      1        0   \n",
       "\n",
       "   thall_2  thall_3  \n",
       "0        0        0  \n",
       "1        1        0  \n",
       "2        1        0  \n",
       "3        1        0  \n",
       "4        1        0  \n",
       "\n",
       "[5 rows x 22 columns]"
      ]
     },
     "execution_count": 34,
     "metadata": {},
     "output_type": "execute_result"
    }
   ],
   "source": [
    "# Scaling and encoding\n",
    "# creating a copy of df\n",
    "df11 = df1\n",
    "\n",
    "# define the columns to be encoded and scaled\n",
    "cats = ['sex','exng','caa','cp','fbs','restecg','slp','thall']\n",
    "cons = [\"age\",\"trtbps\",\"chol\",\"thalachh\",\"oldpeak\"]\n",
    "\n",
    "# encoding the categorical columns\n",
    "df11 = pd.get_dummies(df11, columns = cats, drop_first = True)\n",
    "\n",
    "# defining the features and target\n",
    "X = df11.drop(['output'],axis=1)\n",
    "y = df11[['output']]\n",
    "\n",
    "# instantiating the scaler\n",
    "scaler = RobustScaler()\n",
    "\n",
    "# scaling the continuous featuree\n",
    "X[cons] = scaler.fit_transform(X[cons])\n",
    "print(\"The first 5 rows of X are\")\n",
    "X.head()"
   ]
  },
  {
   "cell_type": "code",
   "execution_count": 29,
   "metadata": {},
   "outputs": [
    {
     "name": "stdout",
     "output_type": "stream",
     "text": [
      "The shape of X_train is       (242, 22)\n",
      "The shape of X_test is        (61, 22)\n",
      "The shape of y_train is       (242, 1)\n",
      "The shape of y_test is        (61, 1)\n"
     ]
    }
   ],
   "source": [
    "X_train, X_test, y_train, y_test = train_test_split(X,y, test_size = 0.2, random_state = 42)\n",
    "print(\"The shape of X_train is      \", X_train.shape)\n",
    "print(\"The shape of X_test is       \",X_test.shape)\n",
    "print(\"The shape of y_train is      \",y_train.shape)\n",
    "print(\"The shape of y_test is       \",y_test.shape)"
   ]
  },
  {
   "cell_type": "markdown",
   "metadata": {},
   "source": [
    "### Modelling"
   ]
  },
  {
   "cell_type": "markdown",
   "metadata": {},
   "source": [
    "#### SVM"
   ]
  },
  {
   "cell_type": "code",
   "execution_count": 85,
   "metadata": {},
   "outputs": [
    {
     "name": "stdout",
     "output_type": "stream",
     "text": [
      "The test accuracy score of SVM is  0.8688524590163934\n"
     ]
    }
   ],
   "source": [
    "# instantiating the object and fitting\n",
    "clf = SVC(kernel='linear', C=1, random_state=42).fit(X_train,y_train)\n",
    "\n",
    "# predicting the values\n",
    "y_pred = clf.predict(X_test)\n",
    "\n",
    "# printing the test accuracy\n",
    "print(\"The test accuracy score of SVM is \", accuracy_score(y_test, y_pred))"
   ]
  },
  {
   "cell_type": "code",
   "execution_count": 86,
   "metadata": {},
   "outputs": [
    {
     "data": {
      "image/png": "[encoded data removed]",
      "text/plain": [
       "<Figure size 432x288 with 2 Axes>"
      ]
     },
     "metadata": {
      "needs_background": "light"
     },
     "output_type": "display_data"
    }
   ],
   "source": [
    "from sklearn.metrics import plot_confusion_matrix\n",
    "plot_confusion_matrix(clf, X_test, y_test,cmap=\"Blues\")  \n",
    "plt.show()  "
   ]
  },
  {
   "cell_type": "markdown",
   "metadata": {},
   "source": [
    "#### Logistic Regression"
   ]
  },
  {
   "cell_type": "code",
   "execution_count": 87,
   "metadata": {},
   "outputs": [
    {
     "name": "stdout",
     "output_type": "stream",
     "text": [
      "The test accuracy score of Logistric Regression is  0.9016393442622951\n"
     ]
    }
   ],
   "source": [
    "# instantiating the object\n",
    "logreg = LogisticRegression()\n",
    "\n",
    "# fitting the object\n",
    "logreg.fit(X_train, y_train)\n",
    "\n",
    "# calculating the probabilities\n",
    "y_pred_proba = logreg.predict_proba(X_test)\n",
    "\n",
    "# finding the predicted valued\n",
    "y_pred = np.argmax(y_pred_proba,axis=1)\n",
    "\n",
    "# printing the test accuracy\n",
    "print(\"The test accuracy score of Logistric Regression is \", accuracy_score(y_test, y_pred))"
   ]
  },
  {
   "cell_type": "code",
   "execution_count": 88,
   "metadata": {},
   "outputs": [
    {
     "data": {
      "image/png": "[encoded data removed]",
      "text/plain": [
       "<Figure size 432x288 with 2 Axes>"
      ]
     },
     "metadata": {
      "needs_background": "light"
     },
     "output_type": "display_data"
    }
   ],
   "source": [
    "plot_confusion_matrix(logreg, X_test, y_test,cmap=\"Blues\")  \n",
    "plt.show()  "
   ]
  },
  {
   "cell_type": "markdown",
   "metadata": {},
   "source": [
    "#### Decision Tree`"
   ]
  },
  {
   "cell_type": "code",
   "execution_count": 89,
   "metadata": {},
   "outputs": [
    {
     "name": "stdout",
     "output_type": "stream",
     "text": [
      "The test accuracy score of Decision Tree is  0.7868852459016393\n"
     ]
    }
   ],
   "source": [
    "# instantiating the object\n",
    "dt = DecisionTreeClassifier(random_state = 42)\n",
    "\n",
    "# fitting the model\n",
    "dt.fit(X_train, y_train)\n",
    "\n",
    "# calculating the predictions\n",
    "y_pred = dt.predict(X_test)\n",
    "\n",
    "# printing the test accuracy\n",
    "print(\"The test accuracy score of Decision Tree is \", accuracy_score(y_test, y_pred))"
   ]
  },
  {
   "cell_type": "code",
   "execution_count": 90,
   "metadata": {},
   "outputs": [
    {
     "data": {
      "image/png": "[encoded data removed]",
      "text/plain": [
       "<Figure size 432x288 with 2 Axes>"
      ]
     },
     "metadata": {
      "needs_background": "light"
     },
     "output_type": "display_data"
    }
   ],
   "source": [
    "plot_confusion_matrix(dt, X_test, y_test,cmap=\"Blues\")  \n",
    "plt.show()  "
   ]
  },
  {
   "cell_type": "markdown",
   "metadata": {},
   "source": [
    "#### Random Forest"
   ]
  },
  {
   "cell_type": "code",
   "execution_count": 91,
   "metadata": {},
   "outputs": [
    {
     "name": "stdout",
     "output_type": "stream",
     "text": [
      "The test accuracy score of Random Forest is  0.819672131147541\n"
     ]
    }
   ],
   "source": [
    "# instantiating the object\n",
    "rf = RandomForestClassifier()\n",
    "\n",
    "# fitting the model\n",
    "rf.fit(X_train, y_train)\n",
    "\n",
    "# calculating the predictions\n",
    "y_pred = rf.predict(X_test)\n",
    "\n",
    "# printing the test accuracy\n",
    "print(\"The test accuracy score of Random Forest is \", accuracy_score(y_test, y_pred))"
   ]
  },
  {
   "cell_type": "code",
   "execution_count": 92,
   "metadata": {},
   "outputs": [
    {
     "data": {
      "image/png": "[encoded data removed]",
      "text/plain": [
       "<Figure size 432x288 with 2 Axes>"
      ]
     },
     "metadata": {
      "needs_background": "light"
     },
     "output_type": "display_data"
    }
   ],
   "source": [
    "plot_confusion_matrix(rf, X_test, y_test, cmap=\"Blues\")  \n",
    "plt.show()  "
   ]
  },
  {
   "cell_type": "markdown",
   "metadata": {},
   "source": [
    "#### K-Nearest Neighbor"
   ]
  },
  {
   "cell_type": "code",
   "execution_count": 95,
   "metadata": {},
   "outputs": [],
   "source": [
    "from sklearn.neighbors import KNeighborsClassifier\n",
    "knn_model = KNeighborsClassifier(n_neighbors=2)"
   ]
  },
  {
   "cell_type": "code",
   "execution_count": 96,
   "metadata": {},
   "outputs": [
    {
     "name": "stdout",
     "output_type": "stream",
     "text": [
      "The test accuracy score of Random Forest is  0.7704918032786885\n"
     ]
    }
   ],
   "source": [
    "knn_model.fit(X_train, y_train)\n",
    "y_pred = knn_model.predict(X_test)\n",
    "# printing the test accuracy\n",
    "print(\"The test accuracy score of Random Forest is \", accuracy_score(y_test, y_pred))"
   ]
  },
  {
   "cell_type": "code",
   "execution_count": 97,
   "metadata": {},
   "outputs": [
    {
     "data": {
      "image/png": "[encoded data removed]",
      "text/plain": [
       "<Figure size 432x288 with 2 Axes>"
      ]
     },
     "metadata": {
      "needs_background": "light"
     },
     "output_type": "display_data"
    }
   ],
   "source": [
    "plot_confusion_matrix(knn_model, X_test, y_test, cmap=\"Blues\")  \n",
    "plt.show()  "
   ]
  }
 ],
 "metadata": {
  "kernelspec": {
   "display_name": "Python 3",
   "language": "python",
   "name": "python3"
  },
  "language_info": {
   "codemirror_mode": {
    "name": "ipython",
    "version": 3
   },
   "file_extension": ".py",
   "mimetype": "text/x-python",
   "name": "python",
   "nbconvert_exporter": "python",
   "pygments_lexer": "ipython3",
   "version": "3.7.2"
  }
 },
 "nbformat": 4,
 "nbformat_minor": 4
}
