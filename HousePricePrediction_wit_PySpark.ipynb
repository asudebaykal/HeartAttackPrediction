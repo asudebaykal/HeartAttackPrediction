{
  "nbformat": 4,
  "nbformat_minor": 0,
  "metadata": {
    "colab": {
      "provenance": [],
      "authorship_tag": "ABX9TyNXcw1RxpNPYx4qXQL9iJ5k",
      "include_colab_link": true
    },
    "kernelspec": {
      "name": "python3",
      "display_name": "Python 3"
    },
    "language_info": {
      "name": "python"
    }
  },
  "cells": [
    {
      "cell_type": "markdown",
      "metadata": {
        "id": "view-in-github",
        "colab_type": "text"
      },
      "source": [
        "<a href=\"https://colab.research.google.com/github/asudebaykal/Machine-Learning-Projects/blob/main/HousePricePrediction_wit_PySpark.ipynb\" target=\"_parent\"><img src=\"https://colab.research.google.com/assets/colab-badge.svg\" alt=\"Open In Colab\"/></a>"
      ]
    },
    {
      "cell_type": "markdown",
      "source": [
        "Install dependencies to run Pyspark"
      ],
      "metadata": {
        "id": "BJGCyaKAOt9R"
      }
    },
    {
      "cell_type": "code",
      "execution_count": 3,
      "metadata": {
        "id": "mdpyzxxGLhDL"
      },
      "outputs": [],
      "source": [
        "!apt-get install openjdk-8-jdk-headless -qq > /dev/null\n",
        "!wget -q https://archive.apache.org/dist/spark/spark-3.0.0/spark-3.0.0-bin-hadoop3.2.tgz\n",
        "!tar xf spark-3.0.0-bin-hadoop3.2.tgz\n",
        "!pip install -q findspark"
      ]
    },
    {
      "cell_type": "markdown",
      "source": [
        "Set Spark folder to the system path environment"
      ],
      "metadata": {
        "id": "dEmwc_pQOuGu"
      }
    },
    {
      "cell_type": "code",
      "source": [
        "import os\n",
        "os.environ[\"JAVA_HOME\"] = \"/usr/lib/jvm/java-8-openjdk-amd64\"\n",
        "os.environ[\"SPARK_HOME\"] = \"/content/spark-3.0.0-bin-hadoop3.2\""
      ],
      "metadata": {
        "id": "ZmvuZOGSPlgv"
      },
      "execution_count": 4,
      "outputs": []
    },
    {
      "cell_type": "markdown",
      "source": [
        "Run a local spark session to test the environment\n"
      ],
      "metadata": {
        "id": "78ign-y0PpYY"
      }
    },
    {
      "cell_type": "code",
      "source": [
        "import findspark\n",
        "findspark.init()\n",
        "from pyspark.sql import SparkSession\n",
        "spark = SparkSession.builder.master(\"local[*]\").getOrCreate()"
      ],
      "metadata": {
        "id": "JmJyne4pPm3L"
      },
      "execution_count": 5,
      "outputs": []
    },
    {
      "cell_type": "markdown",
      "source": [
        "# House Price Prediction\n",
        "Dataset: Boston Housing dataset\n",
        "\n",
        "Model: Linear regression"
      ],
      "metadata": {
        "id": "1FtsuaNbQeHg"
      }
    },
    {
      "cell_type": "code",
      "source": [
        "from pyspark.ml.feature import VectorAssembler # combine all the features into one vector\n",
        "from pyspark.ml.regression import LinearRegression\n",
        "dataset = spark.read.csv('BostonHousing.csv',inferSchema=True, header =True)"
      ],
      "metadata": {
        "id": "JUp9QU7NP11l"
      },
      "execution_count": 7,
      "outputs": []
    },
    {
      "cell_type": "code",
      "source": [
        "dataset.printSchema()"
      ],
      "metadata": {
        "colab": {
          "base_uri": "https://localhost:8080/"
        },
        "id": "7zg_1lonRJf3",
        "outputId": "b9e67e82-862b-4342-c752-7ec19c43589d"
      },
      "execution_count": 9,
      "outputs": [
        {
          "output_type": "stream",
          "name": "stdout",
          "text": [
            "root\n",
            " |-- crim: double (nullable = true)\n",
            " |-- zn: double (nullable = true)\n",
            " |-- indus: double (nullable = true)\n",
            " |-- chas: integer (nullable = true)\n",
            " |-- nox: double (nullable = true)\n",
            " |-- rm: double (nullable = true)\n",
            " |-- age: double (nullable = true)\n",
            " |-- dis: double (nullable = true)\n",
            " |-- rad: integer (nullable = true)\n",
            " |-- tax: integer (nullable = true)\n",
            " |-- ptratio: double (nullable = true)\n",
            " |-- b: double (nullable = true)\n",
            " |-- lstat: double (nullable = true)\n",
            " |-- medv: double (nullable = true)\n",
            "\n"
          ]
        }
      ]
    },
    {
      "cell_type": "code",
      "source": [
        "# Combine all features in to one vector\n",
        "assembler = VectorAssembler(inputCols=['crim', 'zn', 'indus', 'chas', 'nox',\n",
        "                                       'rm', 'age', 'dis', 'rad', 'tax',\n",
        "                                       'ptratio', 'b', 'lstat'], outputCol = 'Features')\n",
        "output = assembler.transform(dataset)"
      ],
      "metadata": {
        "id": "HCGOL7mBQ92E"
      },
      "execution_count": 11,
      "outputs": []
    },
    {
      "cell_type": "code",
      "source": [
        "data = output.select('Features', 'medv')\n",
        "# Features are the input features and medv is the target variables\n",
        "data.show()"
      ],
      "metadata": {
        "colab": {
          "base_uri": "https://localhost:8080/"
        },
        "id": "oCrTiFQTR7yn",
        "outputId": "7757dac7-68f2-41cc-c4b5-592a92304f6c"
      },
      "execution_count": 17,
      "outputs": [
        {
          "output_type": "stream",
          "name": "stdout",
          "text": [
            "+--------------------+----+\n",
            "|            Features|medv|\n",
            "+--------------------+----+\n",
            "|[0.00632,18.0,2.3...|24.0|\n",
            "|[0.02731,0.0,7.07...|21.6|\n",
            "|[0.02729,0.0,7.07...|34.7|\n",
            "|[0.03237,0.0,2.18...|33.4|\n",
            "|[0.06905,0.0,2.18...|36.2|\n",
            "|[0.02985,0.0,2.18...|28.7|\n",
            "|[0.08829,12.5,7.8...|22.9|\n",
            "|[0.14455,12.5,7.8...|27.1|\n",
            "|[0.21124,12.5,7.8...|16.5|\n",
            "|[0.17004,12.5,7.8...|18.9|\n",
            "|[0.22489,12.5,7.8...|15.0|\n",
            "|[0.11747,12.5,7.8...|18.9|\n",
            "|[0.09378,12.5,7.8...|21.7|\n",
            "|[0.62976,0.0,8.14...|20.4|\n",
            "|[0.63796,0.0,8.14...|18.2|\n",
            "|[0.62739,0.0,8.14...|19.9|\n",
            "|[1.05393,0.0,8.14...|23.1|\n",
            "|[0.7842,0.0,8.14,...|17.5|\n",
            "|[0.80271,0.0,8.14...|20.2|\n",
            "|[0.7258,0.0,8.14,...|18.2|\n",
            "+--------------------+----+\n",
            "only showing top 20 rows\n",
            "\n"
          ]
        }
      ]
    },
    {
      "cell_type": "code",
      "source": [
        "#Split training (.8) and testing data (.2)\n",
        "train_data,test_data = data.randomSplit([0.8,0.2])"
      ],
      "metadata": {
        "id": "JPfOoWgySqIn"
      },
      "execution_count": 18,
      "outputs": []
    },
    {
      "cell_type": "markdown",
      "source": [
        "# Model"
      ],
      "metadata": {
        "id": "-yE38ikSSjlK"
      }
    },
    {
      "cell_type": "code",
      "source": [
        "model = LinearRegression(featuresCol = 'Features', labelCol = 'medv')\n",
        "\n",
        "#Learn to fit the model from training set\n",
        "model = model.fit(train_data)\n",
        "\n",
        "#To predict the prices on testing set\n",
        "pred = model.evaluate(test_data)\n",
        "#Predict the model\n",
        "pred.predictions.show()"
      ],
      "metadata": {
        "colab": {
          "base_uri": "https://localhost:8080/"
        },
        "id": "uyQB6oTWSiz5",
        "outputId": "047fdbf6-f66e-4529-815f-fea615865dec"
      },
      "execution_count": 19,
      "outputs": [
        {
          "output_type": "stream",
          "name": "stdout",
          "text": [
            "+--------------------+----+------------------+\n",
            "|            Features|medv|        prediction|\n",
            "+--------------------+----+------------------+\n",
            "|[0.00906,90.0,2.9...|32.2|  31.3468028766858|\n",
            "|[0.01096,55.0,2.2...|22.0| 27.27703041974309|\n",
            "|[0.01381,80.0,0.4...|50.0|40.412516980480916|\n",
            "|[0.01951,17.5,1.3...|33.0|22.883394296139247|\n",
            "|[0.02009,95.0,2.6...|50.0| 42.66094129017251|\n",
            "|[0.02498,0.0,1.89...|16.5|22.340249495848536|\n",
            "|[0.02899,40.0,1.2...|26.6|22.104875572344426|\n",
            "|[0.0315,95.0,1.47...|34.9| 30.09442618561892|\n",
            "|[0.03306,0.0,5.19...|20.6| 22.03988057408082|\n",
            "|[0.03445,82.5,2.0...|24.1|29.465477633767257|\n",
            "|[0.03584,80.0,3.3...|23.5| 30.30832126971645|\n",
            "|[0.04297,52.5,5.3...|24.8| 26.47492241157351|\n",
            "|[0.04301,80.0,1.9...|18.2| 14.37187950767677|\n",
            "|[0.04741,0.0,11.9...|11.9|22.659120616397626|\n",
            "|[0.04981,21.0,5.6...|23.4| 23.71717112612974|\n",
            "|[0.05023,35.0,6.0...|17.1|20.027184905628747|\n",
            "|[0.05083,0.0,5.19...|22.2|21.854711757031147|\n",
            "|[0.05302,0.0,3.41...|28.7| 30.86567833853092|\n",
            "|[0.05561,70.0,2.2...|29.0|31.559948112451135|\n",
            "|[0.0566,0.0,3.41,...|23.6|  30.7893021385604|\n",
            "+--------------------+----+------------------+\n",
            "only showing top 20 rows\n",
            "\n"
          ]
        }
      ]
    },
    {
      "cell_type": "code",
      "source": [
        "#coefficient of the regression model\n",
        "coeff = model.coefficients\n",
        "\n",
        "#X and Y intercept\n",
        "intr = model.intercept\n",
        "print (\"The coefficient of the model is : %a\" %coeff)\n",
        "print (\"The Intercept of the model is : %f\" %intr)"
      ],
      "metadata": {
        "colab": {
          "base_uri": "https://localhost:8080/"
        },
        "id": "CAX0BFncSHNI",
        "outputId": "7b557e46-37b1-465e-fe1d-2ea4073efdab"
      },
      "execution_count": 20,
      "outputs": [
        {
          "output_type": "stream",
          "name": "stdout",
          "text": [
            "The coefficient of the model is : DenseVector([-0.1125, 0.0481, -0.0105, 1.8906, -17.3943, 3.5722, 0.0034, -1.5492, 0.2548, -0.0103, -0.9201, 0.0084, -0.5301])\n",
            "The Intercept of the model is : 37.545056\n"
          ]
        }
      ]
    },
    {
      "cell_type": "markdown",
      "source": [
        "# Performance Analysis"
      ],
      "metadata": {
        "id": "iQR28DpoTJEh"
      }
    },
    {
      "cell_type": "code",
      "source": [
        "from pyspark.ml.evaluation import RegressionEvaluator\n",
        "eval = RegressionEvaluator(labelCol=\"medv\", predictionCol=\"prediction\", metricName=\"rmse\")"
      ],
      "metadata": {
        "id": "5gBqP60pTMGi"
      },
      "execution_count": 21,
      "outputs": []
    },
    {
      "cell_type": "code",
      "source": [
        "# Root Mean Square Error\n",
        "rmse = eval.evaluate(pred.predictions)\n",
        "print(\"RMSE: %.3f\" % rmse)\n",
        "\n",
        "# Mean Square Error\n",
        "mse = eval.evaluate(pred.predictions, {eval.metricName: \"mse\"})\n",
        "print(\"MSE: %.3f\" % mse)\n",
        "# Mean Absolute Error\n",
        "mae = eval.evaluate(pred.predictions, {eval.metricName: \"mae\"})\n",
        "print(\"MAE: %.3f\" % mae)\n",
        "# r2 - coefficient of determination\n",
        "r2 = eval.evaluate(pred.predictions, {eval.metricName: \"r2\"})\n",
        "print(\"r2: %.3f\" %r2)"
      ],
      "metadata": {
        "colab": {
          "base_uri": "https://localhost:8080/"
        },
        "id": "Lbbr1FR4TBdE",
        "outputId": "ad689011-5ecf-45a3-8ea3-db7903ade6da"
      },
      "execution_count": 24,
      "outputs": [
        {
          "output_type": "stream",
          "name": "stdout",
          "text": [
            "RMSE: 4.580\n",
            "MSE: 20.972\n",
            "MAE: 3.324\n",
            "r2: 0.772\n"
          ]
        }
      ]
    },
    {
      "cell_type": "markdown",
      "source": [
        "References:\n",
        "\n",
        "https://towardsdatascience.com/pyspark-in-google-colab-6821c2faf41c"
      ],
      "metadata": {
        "id": "jzeyOjx8Uhts"
      }
    }
  ]
}